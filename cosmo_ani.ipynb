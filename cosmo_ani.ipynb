{
 "cells": [
  {
   "cell_type": "code",
   "execution_count": null,
   "id": "initial_id",
   "metadata": {
    "collapsed": true
   },
   "outputs": [],
   "source": [
    ""
   ]
  },
  {
   "metadata": {
    "ExecuteTime": {
     "end_time": "2025-08-25T10:17:38.640585Z",
     "start_time": "2025-08-25T10:17:38.507882Z"
    }
   },
   "cell_type": "code",
   "source": [
    "import numpy as np\n",
    "import plotly.graph_objects as go\n",
    "\n",
    "# --- CONFIG ---\n",
    "NPZ_FILE = \"data/galaxy_sim_hecate.npz\"\n",
    "OUTPUT_HTML = \"galaxy_sim.html\"\n",
    "MAX_FRAMES = 200  # reduce number for large datasets\n",
    "LOG_EVERY = 10    # print every N frames\n",
    "\n",
    "# --- Load simulation data ---\n",
    "print(\"Loading simulation data...\")\n",
    "data = np.load(NPZ_FILE)\n",
    "positions = data[\"body_positions\"]        # shape (T, N, 3)\n",
    "body_gal = data[\"body_galaxy\"]            # shape (N,)\n",
    "gal_pos = data[\"galaxy_positions\"]        # final positions of galaxies\n",
    "gal_mass = data[\"galaxy_masses\"]\n",
    "times = data[\"times\"]\n",
    "T, N, _ = positions.shape\n",
    "print(f\"Loaded positions: {positions.shape}, {T} timesteps, {N} bodies\")\n",
    "\n",
    "# --- Colors for galaxies ---\n",
    "unique_gals = np.unique(body_gal)\n",
    "colors = [f\"hsl({i*360/len(unique_gals)},80%,50%)\" for i in range(len(unique_gals))]\n",
    "\n",
    "body_colors = np.array([colors[i] for i in body_gal])\n",
    "\n",
    "# --- Build frames ---\n",
    "print(\"Building frames...\")\n",
    "frames = []\n",
    "step = max(1, T // MAX_FRAMES)\n",
    "for t_idx, t in enumerate(range(0, T, step)):\n",
    "    frame = go.Frame(\n",
    "        data=[go.Scatter3d(\n",
    "            x=positions[t, :, 0],\n",
    "            y=positions[t, :, 1],\n",
    "            z=positions[t, :, 2],\n",
    "            mode='markers',\n",
    "            marker=dict(size=3, color=body_colors)\n",
    "        )],\n",
    "        name=f\"frame_{t_idx}\"\n",
    "    )\n",
    "    frames.append(frame)\n",
    "    if t_idx % LOG_EVERY == 0:\n",
    "        print(f\"Frame {t_idx}/{len(range(0,T,step))} created\")\n",
    "\n",
    "# --- Initial figure ---\n",
    "print(\"Creating figure...\")\n",
    "fig = go.Figure(\n",
    "    data=[go.Scatter3d(\n",
    "        x=positions[0, :, 0],\n",
    "        y=positions[0, :, 1],\n",
    "        z=positions[0, :, 2],\n",
    "        mode='markers',\n",
    "        marker=dict(size=3, color=body_colors)\n",
    "    )],\n",
    "    layout=go.Layout(\n",
    "        title=\"Galaxy Simulation\",\n",
    "        scene=dict(\n",
    "            xaxis_title=\"X [AU]\",\n",
    "            yaxis_title=\"Y [AU]\",\n",
    "            zaxis_title=\"Z [AU]\"\n",
    "        ),\n",
    "        updatemenus=[dict(\n",
    "            type=\"buttons\",\n",
    "            showactive=False,\n",
    "            buttons=[dict(label=\"Play\",\n",
    "                          method=\"animate\",\n",
    "                          args=[None, dict(frame=dict(duration=50, redraw=True),\n",
    "                                           fromcurrent=True, mode=\"immediate\")])]\n",
    "        )]\n",
    "    ),\n",
    "    frames=frames\n",
    ")\n",
    "\n",
    "# --- Save HTML ---\n",
    "print(f\"Saving HTML animation to {OUTPUT_HTML} ...\")\n",
    "fig.write_html(OUTPUT_HTML)\n",
    "print(\"Done! Open the HTML in a browser to see the animation.\")\n"
   ],
   "id": "c9df4fb15587becc",
   "outputs": [
    {
     "name": "stdout",
     "output_type": "stream",
     "text": [
      "Loading simulation data...\n",
      "Loaded positions: (1, 1000, 3), 1 timesteps, 1000 bodies\n",
      "Building frames...\n",
      "Frame 0/1 created\n",
      "Creating figure...\n",
      "Saving HTML animation to galaxy_sim.html ...\n",
      "Done! Open the HTML in a browser to see the animation.\n"
     ]
    }
   ],
   "execution_count": 6
  }
 ],
 "metadata": {
  "kernelspec": {
   "display_name": "Python 3",
   "language": "python",
   "name": "python3"
  },
  "language_info": {
   "codemirror_mode": {
    "name": "ipython",
    "version": 2
   },
   "file_extension": ".py",
   "mimetype": "text/x-python",
   "name": "python",
   "nbconvert_exporter": "python",
   "pygments_lexer": "ipython2",
   "version": "2.7.6"
  }
 },
 "nbformat": 4,
 "nbformat_minor": 5
}
